{
  "nbformat": 4,
  "nbformat_minor": 0,
  "metadata": {
    "colab": {
      "name": "Nicoles_Research_Data.ipynb",
      "provenance": [],
      "include_colab_link": true
    },
    "kernelspec": {
      "name": "python3",
      "display_name": "Python 3"
    },
    "language_info": {
      "name": "python"
    }
  },
  "cells": [
    {
      "cell_type": "markdown",
      "metadata": {
        "id": "view-in-github",
        "colab_type": "text"
      },
      "source": [
        "<a href=\"https://colab.research.google.com/github/managedkaos/nicoles-research-data/blob/main/Nicoles_Research_Data.ipynb\" target=\"_parent\"><img src=\"https://colab.research.google.com/assets/colab-badge.svg\" alt=\"Open In Colab\"/></a>"
      ]
    },
    {
      "cell_type": "markdown",
      "source": [
        "Retrieve and list all the [MAUDE zip files on fda.gov](https://www.fda.gov/medical-devices/mandatory-reporting-requirements-manufacturers-importers-and-device-user-facilities/about-manufacturer-and-user-facility-device-experience-maude)."
      ],
      "metadata": {
        "id": "bTQpDsyEbogP"
      }
    },
    {
      "cell_type": "code",
      "execution_count": 2,
      "metadata": {
        "id": "-bs-M9jzXe6F"
      },
      "outputs": [],
      "source": [
        "import pandas as pd\n",
        "\n",
        "# Define constant values\n",
        "DATA_URL = 'https://www.fda.gov/medical-devices/mandatory-reporting-requirements-manufacturers-importers-and-device-user-facilities/about-manufacturer-and-user-facility-device-experience-maude'\n",
        "DOWNLOAD_URL = 'https://www.accessdata.fda.gov/MAUDE/ftparea'\n",
        "\n",
        "# Read the entire webpaage from fda.gov using Pandas\n",
        "# Pandas will look for tables by default\n",
        "tables = pd.read_html(DATA_URL)\n",
        "\n",
        "# The read should return one table; use that as the dataframe\n",
        "# TODO: check here to confirm one and only one table was returned\n",
        "df = tables[0]\n",
        "\n",
        "# Drop the first row which is only used for formatting on the web page\n",
        "df.drop(index=df.index[0],\n",
        "        axis=0,\n",
        "        inplace=True)\n",
        "\n",
        "# Rename the columns of the table to include 'Description' and remove tabs\n",
        "df.columns = [\n",
        "    'File Name',\n",
        "    'Compressed Size in Bytes',\n",
        "    'Uncompressed Size in Bytes',\n",
        "    'Total Records',\n",
        "    'Description'\n",
        "]\n",
        "\n",
        "# Convert the 'Total Records' values to integer\n",
        "df = df.astype({'Total Records':'int'})\n",
        "\n",
        "# If needed for debugging, print the table as markdown\n",
        "# print(df.to_markdown())"
      ]
    },
    {
      "cell_type": "code",
      "source": [
        "df"
      ],
      "metadata": {
        "colab": {
          "base_uri": "https://localhost:8080/",
          "height": 424
        },
        "id": "jGLRrmoYp9aU",
        "outputId": "ef68f9cd-beff-470c-842e-fb4f09490f89"
      },
      "execution_count": 3,
      "outputs": [
        {
          "output_type": "execute_result",
          "data": {
            "text/plain": [
              "             File Name Compressed Size in Bytes Uncompressed Size in Bytes  \\\n",
              "1           mdrfoi.zip                   6167KB                    87864KB   \n",
              "2   mdrfoithru2021.zip                 460013KB                  4253175KB   \n",
              "3        mdrfoiadd.zip                   6276KB                    90017KB   \n",
              "4     mdrfoichange.zip                  11457KB                   137162KB   \n",
              "5          patient.zip                    669KB                     7249KB   \n",
              "..                 ...                      ...                        ...   \n",
              "66     foitext2020.zip                 193121KB                  1134242KB   \n",
              "67     foitext2021.zip                 211070KB                  1255788KB   \n",
              "68         foitext.zip                  18407KB                   124772KB   \n",
              "69      foitextadd.zip                   8583KB                    56463KB   \n",
              "70   foitextchange.zip                  40075KB                   236199KB   \n",
              "\n",
              "    Total Records                                        Description  \n",
              "1          263604       MAUDE Base records received to date for 2022  \n",
              "2        12830703                         Master Record through 2021  \n",
              "3          269188      New MAUDE Base records for the current month.  \n",
              "4          421553  MAUDE Base data updates: changes to existing B...  \n",
              "5          269189    MAUDE Patient records received to date for 2022  \n",
              "..            ...                                                ...  \n",
              "66        3039449                            Narrative Data for 2020  \n",
              "67        3625862                            Narrative Data for 2021  \n",
              "68         441898           Narrative Data received to date for 2022  \n",
              "69         200966    New MAUDE Narrative data for the current month.  \n",
              "70         689056  Narrative data updates: changes to existing na...  \n",
              "\n",
              "[70 rows x 5 columns]"
            ],
            "text/html": [
              "\n",
              "  <div id=\"df-87a00edc-a9f1-44bd-900c-373882724ad3\">\n",
              "    <div class=\"colab-df-container\">\n",
              "      <div>\n",
              "<style scoped>\n",
              "    .dataframe tbody tr th:only-of-type {\n",
              "        vertical-align: middle;\n",
              "    }\n",
              "\n",
              "    .dataframe tbody tr th {\n",
              "        vertical-align: top;\n",
              "    }\n",
              "\n",
              "    .dataframe thead th {\n",
              "        text-align: right;\n",
              "    }\n",
              "</style>\n",
              "<table border=\"1\" class=\"dataframe\">\n",
              "  <thead>\n",
              "    <tr style=\"text-align: right;\">\n",
              "      <th></th>\n",
              "      <th>File Name</th>\n",
              "      <th>Compressed Size in Bytes</th>\n",
              "      <th>Uncompressed Size in Bytes</th>\n",
              "      <th>Total Records</th>\n",
              "      <th>Description</th>\n",
              "    </tr>\n",
              "  </thead>\n",
              "  <tbody>\n",
              "    <tr>\n",
              "      <th>1</th>\n",
              "      <td>mdrfoi.zip</td>\n",
              "      <td>6167KB</td>\n",
              "      <td>87864KB</td>\n",
              "      <td>263604</td>\n",
              "      <td>MAUDE Base records received to date for 2022</td>\n",
              "    </tr>\n",
              "    <tr>\n",
              "      <th>2</th>\n",
              "      <td>mdrfoithru2021.zip</td>\n",
              "      <td>460013KB</td>\n",
              "      <td>4253175KB</td>\n",
              "      <td>12830703</td>\n",
              "      <td>Master Record through 2021</td>\n",
              "    </tr>\n",
              "    <tr>\n",
              "      <th>3</th>\n",
              "      <td>mdrfoiadd.zip</td>\n",
              "      <td>6276KB</td>\n",
              "      <td>90017KB</td>\n",
              "      <td>269188</td>\n",
              "      <td>New MAUDE Base records for the current month.</td>\n",
              "    </tr>\n",
              "    <tr>\n",
              "      <th>4</th>\n",
              "      <td>mdrfoichange.zip</td>\n",
              "      <td>11457KB</td>\n",
              "      <td>137162KB</td>\n",
              "      <td>421553</td>\n",
              "      <td>MAUDE Base data updates: changes to existing B...</td>\n",
              "    </tr>\n",
              "    <tr>\n",
              "      <th>5</th>\n",
              "      <td>patient.zip</td>\n",
              "      <td>669KB</td>\n",
              "      <td>7249KB</td>\n",
              "      <td>269189</td>\n",
              "      <td>MAUDE Patient records received to date for 2022</td>\n",
              "    </tr>\n",
              "    <tr>\n",
              "      <th>...</th>\n",
              "      <td>...</td>\n",
              "      <td>...</td>\n",
              "      <td>...</td>\n",
              "      <td>...</td>\n",
              "      <td>...</td>\n",
              "    </tr>\n",
              "    <tr>\n",
              "      <th>66</th>\n",
              "      <td>foitext2020.zip</td>\n",
              "      <td>193121KB</td>\n",
              "      <td>1134242KB</td>\n",
              "      <td>3039449</td>\n",
              "      <td>Narrative Data for 2020</td>\n",
              "    </tr>\n",
              "    <tr>\n",
              "      <th>67</th>\n",
              "      <td>foitext2021.zip</td>\n",
              "      <td>211070KB</td>\n",
              "      <td>1255788KB</td>\n",
              "      <td>3625862</td>\n",
              "      <td>Narrative Data for 2021</td>\n",
              "    </tr>\n",
              "    <tr>\n",
              "      <th>68</th>\n",
              "      <td>foitext.zip</td>\n",
              "      <td>18407KB</td>\n",
              "      <td>124772KB</td>\n",
              "      <td>441898</td>\n",
              "      <td>Narrative Data received to date for 2022</td>\n",
              "    </tr>\n",
              "    <tr>\n",
              "      <th>69</th>\n",
              "      <td>foitextadd.zip</td>\n",
              "      <td>8583KB</td>\n",
              "      <td>56463KB</td>\n",
              "      <td>200966</td>\n",
              "      <td>New MAUDE Narrative data for the current month.</td>\n",
              "    </tr>\n",
              "    <tr>\n",
              "      <th>70</th>\n",
              "      <td>foitextchange.zip</td>\n",
              "      <td>40075KB</td>\n",
              "      <td>236199KB</td>\n",
              "      <td>689056</td>\n",
              "      <td>Narrative data updates: changes to existing na...</td>\n",
              "    </tr>\n",
              "  </tbody>\n",
              "</table>\n",
              "<p>70 rows × 5 columns</p>\n",
              "</div>\n",
              "      <button class=\"colab-df-convert\" onclick=\"convertToInteractive('df-87a00edc-a9f1-44bd-900c-373882724ad3')\"\n",
              "              title=\"Convert this dataframe to an interactive table.\"\n",
              "              style=\"display:none;\">\n",
              "        \n",
              "  <svg xmlns=\"http://www.w3.org/2000/svg\" height=\"24px\"viewBox=\"0 0 24 24\"\n",
              "       width=\"24px\">\n",
              "    <path d=\"M0 0h24v24H0V0z\" fill=\"none\"/>\n",
              "    <path d=\"M18.56 5.44l.94 2.06.94-2.06 2.06-.94-2.06-.94-.94-2.06-.94 2.06-2.06.94zm-11 1L8.5 8.5l.94-2.06 2.06-.94-2.06-.94L8.5 2.5l-.94 2.06-2.06.94zm10 10l.94 2.06.94-2.06 2.06-.94-2.06-.94-.94-2.06-.94 2.06-2.06.94z\"/><path d=\"M17.41 7.96l-1.37-1.37c-.4-.4-.92-.59-1.43-.59-.52 0-1.04.2-1.43.59L10.3 9.45l-7.72 7.72c-.78.78-.78 2.05 0 2.83L4 21.41c.39.39.9.59 1.41.59.51 0 1.02-.2 1.41-.59l7.78-7.78 2.81-2.81c.8-.78.8-2.07 0-2.86zM5.41 20L4 18.59l7.72-7.72 1.47 1.35L5.41 20z\"/>\n",
              "  </svg>\n",
              "      </button>\n",
              "      \n",
              "  <style>\n",
              "    .colab-df-container {\n",
              "      display:flex;\n",
              "      flex-wrap:wrap;\n",
              "      gap: 12px;\n",
              "    }\n",
              "\n",
              "    .colab-df-convert {\n",
              "      background-color: #E8F0FE;\n",
              "      border: none;\n",
              "      border-radius: 50%;\n",
              "      cursor: pointer;\n",
              "      display: none;\n",
              "      fill: #1967D2;\n",
              "      height: 32px;\n",
              "      padding: 0 0 0 0;\n",
              "      width: 32px;\n",
              "    }\n",
              "\n",
              "    .colab-df-convert:hover {\n",
              "      background-color: #E2EBFA;\n",
              "      box-shadow: 0px 1px 2px rgba(60, 64, 67, 0.3), 0px 1px 3px 1px rgba(60, 64, 67, 0.15);\n",
              "      fill: #174EA6;\n",
              "    }\n",
              "\n",
              "    [theme=dark] .colab-df-convert {\n",
              "      background-color: #3B4455;\n",
              "      fill: #D2E3FC;\n",
              "    }\n",
              "\n",
              "    [theme=dark] .colab-df-convert:hover {\n",
              "      background-color: #434B5C;\n",
              "      box-shadow: 0px 1px 3px 1px rgba(0, 0, 0, 0.15);\n",
              "      filter: drop-shadow(0px 1px 2px rgba(0, 0, 0, 0.3));\n",
              "      fill: #FFFFFF;\n",
              "    }\n",
              "  </style>\n",
              "\n",
              "      <script>\n",
              "        const buttonEl =\n",
              "          document.querySelector('#df-87a00edc-a9f1-44bd-900c-373882724ad3 button.colab-df-convert');\n",
              "        buttonEl.style.display =\n",
              "          google.colab.kernel.accessAllowed ? 'block' : 'none';\n",
              "\n",
              "        async function convertToInteractive(key) {\n",
              "          const element = document.querySelector('#df-87a00edc-a9f1-44bd-900c-373882724ad3');\n",
              "          const dataTable =\n",
              "            await google.colab.kernel.invokeFunction('convertToInteractive',\n",
              "                                                     [key], {});\n",
              "          if (!dataTable) return;\n",
              "\n",
              "          const docLinkHtml = 'Like what you see? Visit the ' +\n",
              "            '<a target=\"_blank\" href=https://colab.research.google.com/notebooks/data_table.ipynb>data table notebook</a>'\n",
              "            + ' to learn more about interactive tables.';\n",
              "          element.innerHTML = '';\n",
              "          dataTable['output_type'] = 'display_data';\n",
              "          await google.colab.output.renderOutput(dataTable, element);\n",
              "          const docLink = document.createElement('div');\n",
              "          docLink.innerHTML = docLinkHtml;\n",
              "          element.appendChild(docLink);\n",
              "        }\n",
              "      </script>\n",
              "    </div>\n",
              "  </div>\n",
              "  "
            ]
          },
          "metadata": {},
          "execution_count": 3
        }
      ]
    },
    {
      "cell_type": "markdown",
      "source": [
        "Download all of the MAUDE files to local storage"
      ],
      "metadata": {
        "id": "n0arEPDRqFeu"
      }
    },
    {
      "cell_type": "code",
      "source": [
        "import urllib.request\n",
        "\n",
        "# Iterate all rows using .iterrows()\n",
        "for index, row in df.iterrows():\n",
        "\n",
        "    # Get the file name from this row\n",
        "    file_name = row[\"File Name\"]\n",
        "\n",
        "    # Use the file name to define where the file will be stored locally\n",
        "    file_path = f\"/home/{file_name}\"\n",
        "\n",
        "    # Use the file name to define the URL where the file will be downloaded from\n",
        "    file_url=f\"{DOWNLOAD_URL}/{file_name}\"\n",
        "\n",
        "    # Print dots for tracking progress\n",
        "    print('.', end='')\n",
        "\n",
        "    # Download the file and store it locally\n",
        "    urllib.request.urlretrieve(file_url, file_path)\n",
        " "
      ],
      "metadata": {
        "id": "Fl8k9OO2krTb",
        "colab": {
          "base_uri": "https://localhost:8080/"
        },
        "outputId": "0c99e109-44ec-47f4-a3cf-38de5c042f8d"
      },
      "execution_count": 4,
      "outputs": [
        {
          "output_type": "stream",
          "name": "stdout",
          "text": [
            "......................................................................"
          ]
        }
      ]
    },
    {
      "cell_type": "markdown",
      "source": [
        "List the files in local storage"
      ],
      "metadata": {
        "id": "qPHUNTq5qVbg"
      }
    },
    {
      "cell_type": "code",
      "source": [
        "! ls /home"
      ],
      "metadata": {
        "colab": {
          "base_uri": "https://localhost:8080/"
        },
        "id": "BI0nV46WkO0u",
        "outputId": "dc07184b-de7f-4dd4-8724-9af34456a9a9"
      },
      "execution_count": 5,
      "outputs": [
        {
          "output_type": "stream",
          "name": "stdout",
          "text": [
            "device2000.zip\tdevice2018.zip\t\tfoitext2002.zip  foitext2020.zip\n",
            "device2001.zip\tdevice2019.zip\t\tfoitext2003.zip  foitext2021.zip\n",
            "device2002.zip\tdevice2020.zip\t\tfoitext2004.zip  foitextadd.zip\n",
            "device2003.zip\tdevice2021.zip\t\tfoitext2005.zip  foitextchange.zip\n",
            "device2004.zip\tdeviceadd.zip\t\tfoitext2006.zip  foitextthru1995.zip\n",
            "device2005.zip\tdevicechange.zip\tfoitext2007.zip  foitext.zip\n",
            "device2006.zip\tdeviceproblemcodes.zip\tfoitext2008.zip  mdrfoiadd.zip\n",
            "device2007.zip\tdevice.zip\t\tfoitext2009.zip  mdrfoichange.zip\n",
            "device2008.zip\tfoidev1998.zip\t\tfoitext2010.zip  mdrfoithru2021.zip\n",
            "device2009.zip\tfoidev1999.zip\t\tfoitext2011.zip  mdrfoi.zip\n",
            "device2010.zip\tfoidevproblem.zip\tfoitext2012.zip  patientadd.zip\n",
            "device2011.zip\tfoidevthru1997.zip\tfoitext2013.zip  patientchange.zip\n",
            "device2012.zip\tfoitext1996.zip\t\tfoitext2014.zip  patientproblemcode.zip\n",
            "device2013.zip\tfoitext1997.zip\t\tfoitext2015.zip  patientproblemdata.zip\n",
            "device2014.zip\tfoitext1998.zip\t\tfoitext2016.zip  patientthru2021.zip\n",
            "device2015.zip\tfoitext1999.zip\t\tfoitext2017.zip  patient.zip\n",
            "device2016.zip\tfoitext2000.zip\t\tfoitext2018.zip\n",
            "device2017.zip\tfoitext2001.zip\t\tfoitext2019.zip\n"
          ]
        }
      ]
    },
    {
      "cell_type": "code",
      "source": [
        "! unzip /home/foitext2012.zip"
      ],
      "metadata": {
        "colab": {
          "base_uri": "https://localhost:8080/"
        },
        "id": "keubrygcwON1",
        "outputId": "995dd1a2-29d6-4d93-b36f-1ae83000d44a"
      },
      "execution_count": 6,
      "outputs": [
        {
          "output_type": "stream",
          "name": "stdout",
          "text": [
            "Archive:  /home/foitext2012.zip\n",
            "  inflating: foitext2012.txt         \n"
          ]
        }
      ]
    },
    {
      "cell_type": "markdown",
      "source": [
        "Unzip the following files:\n",
        "```\n",
        "foitext2012.zip\n",
        "foitext2013.zip\n",
        "foitext2014.zip\n",
        "foitext2015.zip\n",
        "foitext2016.zip\n",
        "foitext2017.zip\n",
        "foitext2018.zip\n",
        "foitext2019.zip\n",
        "foitext2020.zip\n",
        "foitext2021.zip\n",
        "```"
      ],
      "metadata": {
        "id": "wrRe5BUA2c5U"
      }
    },
    {
      "cell_type": "code",
      "source": [
        "# Make the input directory\n",
        "! mkdir -p /home/foitext_files\n",
        "\n",
        "# Extract the contents of the following files into the input directory:\n",
        "#   foitext2012.zip\n",
        "#   foitext2013.zip\n",
        "#   foitext2014.zip\n",
        "#   foitext2015.zip\n",
        "#   foitext2016.zip\n",
        "#   foitext2017.zip\n",
        "#   foitext2018.zip\n",
        "#   foitext2019.zip\n",
        "#   foitext2020.zip\n",
        "#   foitext2021.zip\n",
        "\n",
        "! for i in {device,foitext}20{12..21}.zip; do echo -n \".\"; unzip -qq -d /home/foitext_files -o \"/home/${i}\"; done"
      ],
      "metadata": {
        "colab": {
          "base_uri": "https://localhost:8080/"
        },
        "id": "LyEqWwSO3mlt",
        "outputId": "f2abe8ee-d178-4755-ccba-60321f20cbec"
      },
      "execution_count": 8,
      "outputs": [
        {
          "output_type": "stream",
          "name": "stdout",
          "text": [
            "...................."
          ]
        }
      ]
    },
    {
      "cell_type": "code",
      "source": [
        "! ls /home/foitext_files"
      ],
      "metadata": {
        "colab": {
          "base_uri": "https://localhost:8080/"
        },
        "id": "RBxqrsAU4iUU",
        "outputId": "43be3ff9-c613-4e1a-ab46-198694f56099"
      },
      "execution_count": 7,
      "outputs": [
        {
          "output_type": "stream",
          "name": "stdout",
          "text": [
            "DEVICE2012.txt\tDEVICE2017.txt\tfoitext2012.txt  foitext2017.txt\n",
            "DEVICE2013.txt\tDEVICE2018.txt\tfoitext2013.txt  foitext2018.txt\n",
            "DEVICE2014.txt\tDEVICE2019.txt\tfoitext2014.txt  foitext2019.txt\n",
            "DEVICE2015.txt\tDEVICE2020.txt\tfoitext2015.txt  foitext2020.txt\n",
            "DEVICE2016.txt\tDEVICE2021.txt\tfoitext2016.txt  foitext2021.txt\n"
          ]
        }
      ]
    },
    {
      "cell_type": "code",
      "source": [
        "# Make the output directory\n",
        "! mkdir -p /home/filtered-foitext_files"
      ],
      "metadata": {
        "id": "J_oGC-OA6R20"
      },
      "execution_count": 5,
      "outputs": []
    },
    {
      "cell_type": "code",
      "source": [
        "import pandas as pd\n",
        "\n",
        "df1 = pd.read_csv(\"/home/foitext_files/foitext2012.txt\", encoding=\"ISO-8859-1\", sep='|')"
      ],
      "metadata": {
        "id": "X5uIzoLp9YyO"
      },
      "execution_count": 10,
      "outputs": []
    }
  ]
}