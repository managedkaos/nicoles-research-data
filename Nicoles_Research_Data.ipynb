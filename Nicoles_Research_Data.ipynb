{
  "nbformat": 4,
  "nbformat_minor": 0,
  "metadata": {
    "colab": {
      "name": "Nicoles-Research-Data.ipynb",
      "provenance": [],
      "authorship_tag": "ABX9TyM+G8OKew/NQRbl9QedgMzq",
      "include_colab_link": true
    },
    "kernelspec": {
      "name": "python3",
      "display_name": "Python 3"
    },
    "language_info": {
      "name": "python"
    }
  },
  "cells": [
    {
      "cell_type": "markdown",
      "metadata": {
        "id": "view-in-github",
        "colab_type": "text"
      },
      "source": [
        "<a href=\"https://colab.research.google.com/github/managedkaos/nicoles-research-data/blob/main/Nicoles_Research_Data.ipynb\" target=\"_parent\"><img src=\"https://colab.research.google.com/assets/colab-badge.svg\" alt=\"Open In Colab\"/></a>"
      ]
    },
    {
      "cell_type": "code",
      "execution_count": 2,
      "metadata": {
        "colab": {
          "base_uri": "https://localhost:8080/"
        },
        "id": "-bs-M9jzXe6F",
        "outputId": "63b1ae32-8bc9-459b-f712-3543d3dc1337"
      },
      "outputs": [
        {
          "output_type": "stream",
          "name": "stdout",
          "text": [
            "|    | File Name              | Compressed Size in Bytes   | Uncompressed Size in Bytes   |   Total Records | Description                                                                                                         |\n",
            "|---:|:-----------------------|:---------------------------|:-----------------------------|----------------:|:--------------------------------------------------------------------------------------------------------------------|\n",
            "|  1 | mdrfoi.zip             | 6167KB                     | 87864KB                      |          263604 | MAUDE Base records received to date for 2022                                                                        |\n",
            "|  2 | mdrfoithru2021.zip     | 460013KB                   | 4253175KB                    |        12830703 | Master Record through 2021                                                                                          |\n",
            "|  3 | mdrfoiadd.zip          | 6276KB                     | 90017KB                      |          269188 | New MAUDE Base records for the current month.                                                                       |\n",
            "|  4 | mdrfoichange.zip       | 11457KB                    | 137162KB                     |          421553 | MAUDE Base data updates: changes to existing Base data.                                                             |\n",
            "|  5 | patient.zip            | 669KB                      | 7249KB                       |          269189 | MAUDE Patient records received to date for 2022                                                                     |\n",
            "|  6 | patientthru2021.zip    | 48801KB                    | 388999KB                     |        12807701 | Patient Record through 2021                                                                                         |\n",
            "|  7 | patientadd.zip         | 669KB                      | 7249KB                       |          269189 | New MAUDE Patient records for the current month.                                                                    |\n",
            "|  8 | patientchange.zip      | 1279KB                     | 11865KB                      |          421575 | MAUDE Patient data updates: changes to existing Base data.                                                          |\n",
            "|  9 | patientproblemcode.zip | 102152KB                   | 936939KB                     |        13648426 | Device Data for patientproblemcode                                                                                  |\n",
            "| 10 | patientproblemdata.zip | 11KB                       | 25KB                         |             998 | Patient Problem Data                                                                                                |\n",
            "| 11 | foidevthru1997.zip     | 6001KB                     | 31217KB                      |          136917 | Device Data through 1997                                                                                            |\n",
            "| 12 | foidev1998.zip         | 3205KB                     | 17539KB                      |           63440 | Device Data for 1998                                                                                                |\n",
            "| 13 | foidev1999.zip         | 2764KB                     | 14798KB                      |           52880 | Device Data for 1999                                                                                                |\n",
            "| 14 | device2000.zip         | 1925KB                     | 9894KB                       |           53114 | Device Data for 2000                                                                                                |\n",
            "| 15 | device2001.zip         | 2116KB                     | 10960KB                      |           59073 | Device Data for 2001                                                                                                |\n",
            "| 16 | device2002.zip         | 2312KB                     | 12829KB                      |           70383 | Device Data for 2002                                                                                                |\n",
            "| 17 | device2003.zip         | 2522KB                     | 14089KB                      |           77946 | Device Data for 2003                                                                                                |\n",
            "| 18 | device2004.zip         | 2794KB                     | 14782KB                      |           82885 | Device Data for 2004                                                                                                |\n",
            "| 19 | device2005.zip         | 3339KB                     | 17516KB                      |           99770 | Device Data for 2005                                                                                                |\n",
            "| 20 | device2006.zip         | 3954KB                     | 21072KB                      |          120484 | Device Data for 2006                                                                                                |\n",
            "| 21 | device2007.zip         | 4808KB                     | 29940KB                      |          172204 | Device Data for 2007                                                                                                |\n",
            "| 22 | device2008.zip         | 5508KB                     | 33651KB                      |          195471 | Device Data for 2008                                                                                                |\n",
            "| 23 | device2009.zip         | 6712KB                     | 43264KB                      |          243109 | Device Data for 2009                                                                                                |\n",
            "| 24 | device2010.zip         | 8705KB                     | 55457KB                      |          304402 | Device Data for 2010                                                                                                |\n",
            "| 25 | device2011.zip         | 11550KB                    | 79923KB                      |          446875 | Device Data for 2011                                                                                                |\n",
            "| 26 | device2012.zip         | 13329KB                    | 87131KB                      |          487726 | Device Data for 2012                                                                                                |\n",
            "| 27 | device2013.zip         | 17679KB                    | 123153KB                     |          682274 | Device Data for 2013                                                                                                |\n",
            "| 28 | device2014.zip         | 20264KB                    | 157957KB                     |          863778 | Device Data for 2014                                                                                                |\n",
            "| 29 | device2015.zip         | 23234KB                    | 167425KB                     |          862586 | Device Data for 2015                                                                                                |\n",
            "| 30 | device2016.zip         | 24958KB                    | 172125KB                     |          868366 | Narrative Data for 2016                                                                                             |\n",
            "| 31 | device2017.zip         | 28501KB                    | 192368KB                     |          938695 | Narrative Data for 2017                                                                                             |\n",
            "| 32 | device2018.zip         | 32928KB                    | 216678KB                     |         1050350 | Narrative Data for 2018                                                                                             |\n",
            "| 33 | device2019.zip         | 39168KB                    | 276826KB                     |         1333422 | Narrative Data for 2019                                                                                             |\n",
            "| 34 | device2020.zip         | 42816KB                    | 323663KB                     |         1567579 | Narrative Data for 2020                                                                                             |\n",
            "| 35 | device2021.zip         | 50900KB                    | 411741KB                     |         2030160 | Narrative Data for 2021                                                                                             |\n",
            "| 36 | device.zip             | 4337KB                     | 49369KB                      |          263948 | Device Data received to date for 2022                                                                               |\n",
            "| 37 | deviceadd.zip          | 4423KB                     | 50947KB                      |          269535 | New MAUDE Device data for the current month.                                                                        |\n",
            "| 38 | devicechange.zip       | 8937KB                     | 81730KB                      |          422402 | Device data updates: changes to existing Device data and additional Device data for existing Base records.          |\n",
            "| 39 | deviceproblemcodes.zip | 16KB                       | 42KB                         |            1704 | Device Problem Data                                                                                                 |\n",
            "| 40 | foidevproblem.zip      | 35546KB                    | 189591KB                     |        13578105 | Device Data for foidevproblem                                                                                       |\n",
            "| 41 | foitextthru1995.zip    | 3561KB                     | 16551KB                      |           27401 | Narrative data through 1995                                                                                         |\n",
            "| 42 | foitext1996.zip        | 2782KB                     | 9318KB                       |           32059 | Narrative Data for 1996                                                                                             |\n",
            "| 43 | foitext1997.zip        | 7557KB                     | 26382KB                      |           91009 | Narrative Data for 1997                                                                                             |\n",
            "| 44 | foitext1998.zip        | 5924KB                     | 20773KB                      |           68316 | Narrative Data for 1998                                                                                             |\n",
            "| 45 | foitext1999.zip        | 4501KB                     | 15788KB                      |           51119 | Narrative Data for 1999                                                                                             |\n",
            "| 46 | foitext2000.zip        | 4760KB                     | 16491KB                      |           52625 | Narrative Data for 2000                                                                                             |\n",
            "| 47 | foitext2001.zip        | 5090KB                     | 17763KB                      |           57986 | Narrative Data for 2001                                                                                             |\n",
            "| 48 | foitext2002.zip        | 6089KB                     | 22304KB                      |           64859 | Narrative Data for 2002                                                                                             |\n",
            "| 49 | foitext2003.zip        | 6221KB                     | 23332KB                      |           66241 | Narrative Data for 2003                                                                                             |\n",
            "| 50 | foitext2004.zip        | 6090KB                     | 21742KB                      |           56117 | Narrative Data for 2004                                                                                             |\n",
            "| 51 | foitext2005.zip        | 9649KB                     | 34692KB                      |           95044 | Narrative Data for 2005                                                                                             |\n",
            "| 52 | foitext2006.zip        | 20092KB                    | 69183KB                      |          177414 | Narrative Data for 2006                                                                                             |\n",
            "| 53 | foitext2007.zip        | 25177KB                    | 88484KB                      |          232627 | Narrative Data for 2007                                                                                             |\n",
            "| 54 | foitext2008.zip        | 28286KB                    | 101218KB                     |          264972 | Narrative Data for 2008                                                                                             |\n",
            "| 55 | foitext2009.zip        | 40869KB                    | 147687KB                     |          388042 | Narrative Data for 2009                                                                                             |\n",
            "| 56 | foitext2010.zip        | 62269KB                    | 252984KB                     |          635654 | Narrative Data for 2010                                                                                             |\n",
            "| 57 | foitext2011.zip        | 94583KB                    | 425073KB                     |         1040278 | Narrative Data for 2011                                                                                             |\n",
            "| 58 | foitext2012.zip        | 108957KB                   | 475208KB                     |         1167621 | Narrative Data for 2012                                                                                             |\n",
            "| 59 | foitext2013.zip        | 139507KB                   | 622562KB                     |         1609332 | Narrative Data for 2013                                                                                             |\n",
            "| 60 | foitext2014.zip        | 164295KB                   | 788040KB                     |         1948365 | Narrative Data for 2014                                                                                             |\n",
            "| 61 | foitext2015.zip        | 184834KB                   | 861735KB                     |         2073784 | Narrative Data for 2015                                                                                             |\n",
            "| 62 | foitext2016.zip        | 194760KB                   | 924811KB                     |         2180342 | Narrative Data for 2016                                                                                             |\n",
            "| 63 | foitext2017.zip        | 215526KB                   | 1071218KB                    |         2363072 | Narrative Data for 2017                                                                                             |\n",
            "| 64 | foitext2018.zip        | 205384KB                   | 1043192KB                    |         2577631 | Narrative Data for 2018                                                                                             |\n",
            "| 65 | foitext2019.zip        | 199493KB                   | 1092990KB                    |         2834673 | Narrative Data for 2019                                                                                             |\n",
            "| 66 | foitext2020.zip        | 193121KB                   | 1134242KB                    |         3039449 | Narrative Data for 2020                                                                                             |\n",
            "| 67 | foitext2021.zip        | 211070KB                   | 1255788KB                    |         3625862 | Narrative Data for 2021                                                                                             |\n",
            "| 68 | foitext.zip            | 18407KB                    | 124772KB                     |          441898 | Narrative Data received to date for 2022                                                                            |\n",
            "| 69 | foitextadd.zip         | 8583KB                     | 56463KB                      |          200966 | New MAUDE Narrative data for the current month.                                                                     |\n",
            "| 70 | foitextchange.zip      | 40075KB                    | 236199KB                     |          689056 | Narrative data updates: changes to existing narrative data and additional narrative data for existing base records. |\n"
          ]
        }
      ],
      "source": [
        "import pandas as pd\n",
        "from unicodedata import normalize\n",
        "\n",
        "# Read the entire webpaage from fda.gov\n",
        "tables = pd.read_html('https://www.fda.gov/medical-devices/mandatory-reporting-requirements-manufacturers-importers-and-device-user-facilities/about-manufacturer-and-user-facility-device-experience-maude')\n",
        "\n",
        "# The read should return one table; use that as the dataframe\n",
        "df = tables[0]\n",
        "\n",
        "# Drop the first row which is only used for formatting on the web page\n",
        "df.drop(index=df.index[0],\n",
        "        axis=0,\n",
        "        inplace=True)\n",
        "\n",
        "# Rename the columns of the table to include 'Description' and remove tabs\n",
        "df.columns = [\n",
        "    'File Name',\n",
        "    'Compressed Size in Bytes',\n",
        "    'Uncompressed Size in Bytes',\n",
        "    'Total Records',\n",
        "    'Description'\n",
        "]\n",
        "\n",
        "# Convert total records to integer\n",
        "df = df.astype({'Total Records':'int'})\n",
        "\n",
        "# Print the table as markdown\n",
        "print(df.to_markdown())"
      ]
    }
  ]
}